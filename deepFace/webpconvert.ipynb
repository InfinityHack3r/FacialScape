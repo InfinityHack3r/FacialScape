{
 "cells": [
  {
   "cell_type": "code",
   "execution_count": 1,
   "metadata": {},
   "outputs": [],
   "source": [
    "from webptools import cwebp\n",
    "\n",
    "image = 'Aitor_Gonzalez_0001.jpg'"
   ]
  },
  {
   "cell_type": "code",
   "execution_count": 2,
   "metadata": {},
   "outputs": [
    {
     "name": "stdout",
     "output_type": "stream",
     "text": [
      "{'exit_code': 0, 'stdout': b'', 'stderr': b\"Time to read input: 0.024s\\r\\nSaving file 'python_logo'\\r\\nTime to encode picture: 0.007s\\r\\nFile:      Aitor_Gonzalez_0001.jpg\\r\\nDimension: 250 x 250\\r\\nOutput:    1844 bytes Y-U-V-All-PSNR 32.94 33.43 35.15   33.32 dB\\r\\n           (0.24 bpp)\\r\\nblock count:  intra4:        144  (56.25%)\\r\\n              intra16:       112  (43.75%)\\r\\n              skipped:        10  (3.91%)\\r\\nbytes used:  header:             41  (2.2%)\\r\\n             mode-partition:    487  (26.4%)\\r\\n Residuals bytes  |segment 1|segment 2|segment 3|segment 4|  total\\r\\n    macroblocks:  |      23%|      26%|      27%|      25%|     256\\r\\n      quantizer:  |     101 |      92 |      83 |      59 |\\r\\n   filter level:  |      63 |      63 |      63 |      26 |\\r\\n\", 'command': 'l:\\\\Repo\\\\FacialScape\\\\venv\\\\lib\\\\site-packages/lib/libwebp_win64/bin/cwebp.exe -q 5 Aitor_Gonzalez_0001.jpg -o python_logo -v'}\n"
     ]
    }
   ],
   "source": [
    "print(cwebp(input_image=image, output_image=\"python_logo\", option=\"-q 5\", logging=\"-v\"))"
   ]
  }
 ],
 "metadata": {
  "kernelspec": {
   "display_name": "venv",
   "language": "python",
   "name": "python3"
  },
  "language_info": {
   "codemirror_mode": {
    "name": "ipython",
    "version": 3
   },
   "file_extension": ".py",
   "mimetype": "text/x-python",
   "name": "python",
   "nbconvert_exporter": "python",
   "pygments_lexer": "ipython3",
   "version": "3.10.10"
  }
 },
 "nbformat": 4,
 "nbformat_minor": 2
}
