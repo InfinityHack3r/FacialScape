{
 "cells": [
  {
   "cell_type": "code",
   "execution_count": 31,
   "metadata": {},
   "outputs": [],
   "source": [
    "from deepface import DeepFace\n",
    "import cv2\n",
    "import matplotlib.pyplot as plt"
   ]
  },
  {
   "cell_type": "code",
   "execution_count": 1,
   "metadata": {},
   "outputs": [],
   "source": [
    "img_path = \"Adam_Ant_0001.jpg\""
   ]
  },
  {
   "cell_type": "code",
   "execution_count": 2,
   "metadata": {},
   "outputs": [
    {
     "ename": "NameError",
     "evalue": "name 'cv2' is not defined",
     "output_type": "error",
     "traceback": [
      "\u001b[1;31m---------------------------------------------------------------------------\u001b[0m",
      "\u001b[1;31mNameError\u001b[0m                                 Traceback (most recent call last)",
      "\u001b[1;32ml:\\Repo\\FacialScape\\deepFace\\deepface.ipynb Cell 3\u001b[0m line \u001b[0;36m1\n\u001b[1;32m----> <a href='vscode-notebook-cell:/l%3A/Repo/FacialScape/deepFace/deepface.ipynb#W4sZmlsZQ%3D%3D?line=0'>1</a>\u001b[0m img \u001b[39m=\u001b[39m cv2\u001b[39m.\u001b[39mimread(img_path)\n",
      "\u001b[1;31mNameError\u001b[0m: name 'cv2' is not defined"
     ]
    }
   ],
   "source": [
    "img = cv2.imread(img_path)"
   ]
  },
  {
   "cell_type": "code",
   "execution_count": 29,
   "metadata": {},
   "outputs": [
    {
     "ename": "ValueError",
     "evalue": "Confirm that img1 exists",
     "output_type": "error",
     "traceback": [
      "\u001b[1;31m---------------------------------------------------------------------------\u001b[0m",
      "\u001b[1;31mValueError\u001b[0m                                Traceback (most recent call last)",
      "\u001b[1;32ml:\\Repo\\FacialScape\\deepFace\\deepface.ipynb Cell 3\u001b[0m line \u001b[0;36m1\n\u001b[1;32m----> <a href='vscode-notebook-cell:/l%3A/Repo/FacialScape/deepFace/deepface.ipynb#W2sZmlsZQ%3D%3D?line=0'>1</a>\u001b[0m anz \u001b[39m=\u001b[39m DeepFace\u001b[39m.\u001b[39;49manalyze(img_path \u001b[39m=\u001b[39;49m \u001b[39m'\u001b[39;49m\u001b[39mimg1\u001b[39;49m\u001b[39m'\u001b[39;49m)\n",
      "File \u001b[1;32ml:\\Repo\\FacialScape\\venv\\lib\\site-packages\\deepface\\DeepFace.py:313\u001b[0m, in \u001b[0;36manalyze\u001b[1;34m(img_path, actions, enforce_detection, detector_backend, align, silent)\u001b[0m\n\u001b[0;32m    310\u001b[0m \u001b[39m# ---------------------------------\u001b[39;00m\n\u001b[0;32m    311\u001b[0m resp_objects \u001b[39m=\u001b[39m []\n\u001b[1;32m--> 313\u001b[0m img_objs \u001b[39m=\u001b[39m functions\u001b[39m.\u001b[39;49mextract_faces(\n\u001b[0;32m    314\u001b[0m     img\u001b[39m=\u001b[39;49mimg_path,\n\u001b[0;32m    315\u001b[0m     target_size\u001b[39m=\u001b[39;49m(\u001b[39m224\u001b[39;49m, \u001b[39m224\u001b[39;49m),\n\u001b[0;32m    316\u001b[0m     detector_backend\u001b[39m=\u001b[39;49mdetector_backend,\n\u001b[0;32m    317\u001b[0m     grayscale\u001b[39m=\u001b[39;49m\u001b[39mFalse\u001b[39;49;00m,\n\u001b[0;32m    318\u001b[0m     enforce_detection\u001b[39m=\u001b[39;49menforce_detection,\n\u001b[0;32m    319\u001b[0m     align\u001b[39m=\u001b[39;49malign,\n\u001b[0;32m    320\u001b[0m )\n\u001b[0;32m    322\u001b[0m \u001b[39mfor\u001b[39;00m img_content, img_region, _ \u001b[39min\u001b[39;00m img_objs:\n\u001b[0;32m    323\u001b[0m     \u001b[39mif\u001b[39;00m img_content\u001b[39m.\u001b[39mshape[\u001b[39m0\u001b[39m] \u001b[39m>\u001b[39m \u001b[39m0\u001b[39m \u001b[39mand\u001b[39;00m img_content\u001b[39m.\u001b[39mshape[\u001b[39m1\u001b[39m] \u001b[39m>\u001b[39m \u001b[39m0\u001b[39m:\n",
      "File \u001b[1;32ml:\\Repo\\FacialScape\\venv\\lib\\site-packages\\deepface\\commons\\functions.py:104\u001b[0m, in \u001b[0;36mextract_faces\u001b[1;34m(img, target_size, detector_backend, grayscale, enforce_detection, align)\u001b[0m\n\u001b[0;32m    101\u001b[0m extracted_faces \u001b[39m=\u001b[39m []\n\u001b[0;32m    103\u001b[0m \u001b[39m# img might be path, base64 or numpy array. Convert it to numpy whatever it is.\u001b[39;00m\n\u001b[1;32m--> 104\u001b[0m img \u001b[39m=\u001b[39m load_image(img)\n\u001b[0;32m    105\u001b[0m img_region \u001b[39m=\u001b[39m [\u001b[39m0\u001b[39m, \u001b[39m0\u001b[39m, img\u001b[39m.\u001b[39mshape[\u001b[39m1\u001b[39m], img\u001b[39m.\u001b[39mshape[\u001b[39m0\u001b[39m]]\n\u001b[0;32m    107\u001b[0m \u001b[39mif\u001b[39;00m detector_backend \u001b[39m==\u001b[39m \u001b[39m\"\u001b[39m\u001b[39mskip\u001b[39m\u001b[39m\"\u001b[39m:\n",
      "File \u001b[1;32ml:\\Repo\\FacialScape\\venv\\lib\\site-packages\\deepface\\commons\\functions.py:81\u001b[0m, in \u001b[0;36mload_image\u001b[1;34m(img)\u001b[0m\n\u001b[0;32m     79\u001b[0m \u001b[39melif\u001b[39;00m exact_image \u001b[39mis\u001b[39;00m \u001b[39mnot\u001b[39;00m \u001b[39mTrue\u001b[39;00m:  \u001b[39m# image path passed as input\u001b[39;00m\n\u001b[0;32m     80\u001b[0m     \u001b[39mif\u001b[39;00m os\u001b[39m.\u001b[39mpath\u001b[39m.\u001b[39misfile(img) \u001b[39mis\u001b[39;00m \u001b[39mnot\u001b[39;00m \u001b[39mTrue\u001b[39;00m:\n\u001b[1;32m---> 81\u001b[0m         \u001b[39mraise\u001b[39;00m \u001b[39mValueError\u001b[39;00m(\u001b[39mf\u001b[39m\u001b[39m\"\u001b[39m\u001b[39mConfirm that \u001b[39m\u001b[39m{\u001b[39;00mimg\u001b[39m}\u001b[39;00m\u001b[39m exists\u001b[39m\u001b[39m\"\u001b[39m)\n\u001b[0;32m     83\u001b[0m     img \u001b[39m=\u001b[39m cv2\u001b[39m.\u001b[39mimread(img)\n\u001b[0;32m     85\u001b[0m \u001b[39mreturn\u001b[39;00m img\n",
      "\u001b[1;31mValueError\u001b[0m: Confirm that img1 exists"
     ]
    }
   ],
   "source": [
    "anz = DeepFace.analyze(img_path = 'img1')"
   ]
  },
  {
   "cell_type": "code",
   "execution_count": 30,
   "metadata": {},
   "outputs": [
    {
     "data": {
      "text/plain": [
       "'l:\\\\Repo\\\\FacialScape\\\\deepFace'"
      ]
     },
     "execution_count": 30,
     "metadata": {},
     "output_type": "execute_result"
    }
   ],
   "source": [
    "pwd"
   ]
  }
 ],
 "metadata": {
  "kernelspec": {
   "display_name": "venv",
   "language": "python",
   "name": "python3"
  },
  "language_info": {
   "codemirror_mode": {
    "name": "ipython",
    "version": 3
   },
   "file_extension": ".py",
   "mimetype": "text/x-python",
   "name": "python",
   "nbconvert_exporter": "python",
   "pygments_lexer": "ipython3",
   "version": "3.10.10"
  }
 },
 "nbformat": 4,
 "nbformat_minor": 2
}
