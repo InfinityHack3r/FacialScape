{
 "cells": [
  {
   "cell_type": "code",
   "execution_count": 1,
   "metadata": {},
   "outputs": [],
   "source": [
    "from deepface import DeepFace\n",
    "import cv2\n",
    "import matplotlib.pyplot as plt"
   ]
  },
  {
   "cell_type": "code",
   "execution_count": 3,
   "metadata": {},
   "outputs": [],
   "source": [
    "img_path = \"python_logo.webp\""
   ]
  },
  {
   "cell_type": "code",
   "execution_count": 4,
   "metadata": {},
   "outputs": [
    {
     "ename": "NameError",
     "evalue": "name 'cv2' is not defined",
     "output_type": "error",
     "traceback": [
      "\u001b[1;31m---------------------------------------------------------------------------\u001b[0m",
      "\u001b[1;31mNameError\u001b[0m                                 Traceback (most recent call last)",
      "\u001b[1;32ml:\\Repo\\FacialScape\\deepFace\\deepface.ipynb Cell 3\u001b[0m line \u001b[0;36m1\n\u001b[1;32m----> <a href='vscode-notebook-cell:/l%3A/Repo/FacialScape/deepFace/deepface.ipynb#W2sZmlsZQ%3D%3D?line=0'>1</a>\u001b[0m img \u001b[39m=\u001b[39m cv2\u001b[39m.\u001b[39mimread(img_path)\n",
      "\u001b[1;31mNameError\u001b[0m: name 'cv2' is not defined"
     ]
    }
   ],
   "source": [
    "img = cv2.imread(img_path)"
   ]
  },
  {
   "cell_type": "code",
   "execution_count": 1,
   "metadata": {},
   "outputs": [
    {
     "ename": "NameError",
     "evalue": "name 'DeepFace' is not defined",
     "output_type": "error",
     "traceback": [
      "\u001b[1;31m---------------------------------------------------------------------------\u001b[0m",
      "\u001b[1;31mNameError\u001b[0m                                 Traceback (most recent call last)",
      "\u001b[1;32ml:\\Repo\\FacialScape\\deepFace\\deepface.ipynb Cell 4\u001b[0m line \u001b[0;36m1\n\u001b[1;32m----> <a href='vscode-notebook-cell:/l%3A/Repo/FacialScape/deepFace/deepface.ipynb#W3sZmlsZQ%3D%3D?line=0'>1</a>\u001b[0m DeepFace\u001b[39m.\u001b[39mstream(db_path \u001b[39m=\u001b[39m \u001b[39m\"\u001b[39m\u001b[39mrandomSelect\u001b[39m\u001b[39m\"\u001b[39m)\n",
      "\u001b[1;31mNameError\u001b[0m: name 'DeepFace' is not defined"
     ]
    }
   ],
   "source": [
    "DeepFace.stream(db_path = \"randomSelect\")"
   ]
  },
  {
   "cell_type": "code",
   "execution_count": 5,
   "metadata": {},
   "outputs": [
    {
     "name": "stderr",
     "output_type": "stream",
     "text": [
      "Action: emotion:   0%|          | 0/4 [00:00<?, ?it/s]"
     ]
    },
    {
     "name": "stderr",
     "output_type": "stream",
     "text": [
      "Action: race: 100%|██████████| 4/4 [00:01<00:00,  3.93it/s]  \n"
     ]
    }
   ],
   "source": [
    "anz = DeepFace.analyze(img_path)"
   ]
  },
  {
   "cell_type": "code",
   "execution_count": 6,
   "metadata": {},
   "outputs": [
    {
     "data": {
      "text/plain": [
       "[{'emotion': {'angry': 10.876207798719406,\n",
       "   'disgust': 0.00010179979881286272,\n",
       "   'fear': 37.14919686317444,\n",
       "   'happy': 0.002282896821270697,\n",
       "   'sad': 35.61706840991974,\n",
       "   'surprise': 0.0022531094145961106,\n",
       "   'neutral': 16.35289490222931},\n",
       "  'dominant_emotion': 'fear',\n",
       "  'region': {'x': 70, 'y': 68, 'w': 109, 'h': 109},\n",
       "  'age': 24,\n",
       "  'gender': {'Woman': 0.9228712879121304, 'Man': 99.07712936401367},\n",
       "  'dominant_gender': 'Man',\n",
       "  'race': {'asian': 7.37883754098334e-08,\n",
       "   'indian': 1.4802956638249043e-07,\n",
       "   'black': 1.6753108232278602e-10,\n",
       "   'white': 99.96988773345947,\n",
       "   'middle eastern': 0.0217650318518281,\n",
       "   'latino hispanic': 0.00834523161756806},\n",
       "  'dominant_race': 'white'}]"
      ]
     },
     "execution_count": 6,
     "metadata": {},
     "output_type": "execute_result"
    },
    {
     "ename": "",
     "evalue": "",
     "output_type": "error",
     "traceback": [
      "\u001b[1;31mThe Kernel crashed while executing code in the the current cell or a previous cell. Please review the code in the cell(s) to identify a possible cause of the failure. Click <a href='https://aka.ms/vscodeJupyterKernelCrash'>here</a> for more info. View Jupyter <a href='command:jupyter.viewOutput'>log</a> for further details."
     ]
    }
   ],
   "source": [
    "anz"
   ]
  },
  {
   "cell_type": "code",
   "execution_count": null,
   "metadata": {},
   "outputs": [
    {
     "data": {
      "text/plain": [
       "'l:\\\\Repo\\\\FacialScape\\\\deepFace'"
      ]
     },
     "execution_count": 12,
     "metadata": {},
     "output_type": "execute_result"
    }
   ],
   "source": [
    "pwd"
   ]
  }
 ],
 "metadata": {
  "kernelspec": {
   "display_name": "venv",
   "language": "python",
   "name": "python3"
  },
  "language_info": {
   "codemirror_mode": {
    "name": "ipython",
    "version": 3
   },
   "file_extension": ".py",
   "mimetype": "text/x-python",
   "name": "python",
   "nbconvert_exporter": "python",
   "pygments_lexer": "ipython3",
   "version": "3.10.10"
  }
 },
 "nbformat": 4,
 "nbformat_minor": 2
}
